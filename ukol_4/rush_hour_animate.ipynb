{
 "cells": [
  {
   "cell_type": "code",
   "execution_count": 1,
   "id": "1cb96eae",
   "metadata": {},
   "outputs": [],
   "source": [
    "import matplotlib.pyplot as plt\n",
    "import matplotlib.patches as patches\n",
    "import matplotlib.lines as lines\n",
    "\n",
    "import imageio\n",
    "\n",
    "import copy\n",
    "import os"
   ]
  },
  {
   "cell_type": "code",
   "execution_count": 2,
   "id": "02779f53",
   "metadata": {},
   "outputs": [],
   "source": [
    "# rozmery prostoru\n",
    "WORLD_HEIGHT = 6\n",
    "WORLD_WIDTH = 6\n",
    "\n",
    "# rozmery vykreslovaneho obrazku\n",
    "FIG_HEIGHT = 5\n",
    "FIG_WIDTH = 5"
   ]
  },
  {
   "cell_type": "code",
   "execution_count": 3,
   "id": "cfda42a2",
   "metadata": {},
   "outputs": [],
   "source": [
    "# nacteni planu\n",
    "steps = []\n",
    "with open(\"Plan.txt\", \"r\", encoding=\"utf-8\") as f:\n",
    "    for row in f.readlines():\n",
    "        steps.append(row.strip().rstrip(')').lstrip('(').split()[1:])"
   ]
  },
  {
   "cell_type": "code",
   "execution_count": 4,
   "id": "c29977e4",
   "metadata": {},
   "outputs": [],
   "source": [
    "# pocatecni pozice vozu\n",
    "start_vehicles = {\n",
    "    'car_y':[[0,3],[1,3]],\n",
    "    'car_r':[[3,1],[3,2]],\n",
    "    'car_g':[[5,3],[5,4]],\n",
    "    'car_b':[[4,2],[5,2]],\n",
    "    \n",
    "    'truck_g':[[2,4],[3,4],[4,4]],\n",
    "    'truck_b':[[3,5],[4,5],[5,5]]\n",
    "}"
   ]
  },
  {
   "cell_type": "code",
   "execution_count": 5,
   "id": "b87ee2a7",
   "metadata": {},
   "outputs": [],
   "source": [
    "# barvy voziddel\n",
    "colors = {\n",
    "    'car_y':'#ffcc00',\n",
    "    'car_r':'r',\n",
    "    'car_g':'#004d00',\n",
    "    'car_b':'#996633',\n",
    "    \n",
    "    'truck_g':'#00b300',\n",
    "    'truck_b':'k'\n",
    "}"
   ]
  },
  {
   "cell_type": "code",
   "execution_count": 6,
   "id": "849f51a0",
   "metadata": {},
   "outputs": [],
   "source": [
    "def print_frame(vehicles):\n",
    "    fig, ax = plt.subplots(figsize=(FIG_WIDTH, FIG_HEIGHT))\n",
    "    ax.set_axis_off()\n",
    "    \n",
    "    # show border\n",
    "    ax.add_patch(patches.Rectangle((0.001, 0.001), 1, 1, fill=False))\n",
    "    \n",
    "    # vehicles\n",
    "    for vehicle in vehicles:\n",
    "        for place in vehicles[vehicle]:\n",
    "            ax.add_patch(patches.Rectangle((place[0] / WORLD_WIDTH + 0.01, \n",
    "                                         place[1] / WORLD_HEIGHT + 0.001), 1/6 - 0.02, 1/6 - 0.02, \n",
    "                                        color=colors[vehicle]))\n",
    "    # target\n",
    "    ax.add_patch(patches.Rectangle((1-0.02, 1-3*(1/6)), 0.02, 1/6-0.02, color='#00ffff'))"
   ]
  },
  {
   "cell_type": "code",
   "execution_count": 7,
   "id": "136058ff",
   "metadata": {},
   "outputs": [
    {
     "data": {
      "image/png": "[encoded data removed]",
      "text/plain": [
       "<Figure size 500x500 with 1 Axes>"
      ]
     },
     "metadata": {},
     "output_type": "display_data"
    }
   ],
   "source": [
    "print_frame(start_vehicles)"
   ]
  },
  {
   "cell_type": "code",
   "execution_count": 8,
   "id": "5a699764",
   "metadata": {},
   "outputs": [],
   "source": [
    "def save_frame(vehicles, filename):\n",
    "    fig, ax = plt.subplots(figsize=(FIG_WIDTH, FIG_HEIGHT))\n",
    "    ax.set_axis_off()\n",
    "    \n",
    "    # show border\n",
    "    ax.add_patch(patches.Rectangle((0.001, 0.001), 0.99, 0.99, fill=False))\n",
    "    \n",
    "    # vehicles\n",
    "    for vehicle in vehicles:\n",
    "        for place in vehicles[vehicle]:\n",
    "            ax.add_patch(patches.Rectangle((place[0] / WORLD_WIDTH, \n",
    "                                         place[1] / WORLD_HEIGHT), 1/6 - 0.02, 1/6 - 0.02, \n",
    "                                        color=colors[vehicle]))\n",
    "    # target\n",
    "    ax.add_patch(patches.Rectangle((1-0.02, 1-3*(1/6)), 0.02, 1/6-0.02, color='#00ffff'))\n",
    "    plt.savefig(filename)\n",
    "    plt.close()"
   ]
  },
  {
   "cell_type": "code",
   "execution_count": 9,
   "id": "9d95eec7",
   "metadata": {},
   "outputs": [],
   "source": [
    "def get_pos_car(vehicles, vehicle, new_pos_x, new_pos_y):\n",
    "    new_pos = []\n",
    "    \n",
    "    # posun vertikalni\n",
    "    if vehicles[vehicle][0][0] == vehicles[vehicle][1][0]:\n",
    "        # nahoru\n",
    "        if new_pos_y > vehicles[vehicle][0][1] and new_pos_y > vehicles[vehicle][1][1]:\n",
    "            if vehicles[vehicle][0][1] > vehicles[vehicle][1][1]:\n",
    "                new_pos.append(vehicles[vehicle][0])\n",
    "                new_pos.append([new_pos_x, new_pos_y])\n",
    "            else:\n",
    "                new_pos.append(vehicles[vehicle][1])\n",
    "                new_pos.append([new_pos_x, new_pos_y])\n",
    "        # dolu    \n",
    "        else:\n",
    "            if vehicles[vehicle][0][1] < vehicles[vehicle][1][1]:\n",
    "                new_pos.append(vehicles[vehicle][0])\n",
    "                new_pos.append([new_pos_x, new_pos_y])\n",
    "            else:\n",
    "                new_pos.append(vehicles[vehicle][1])\n",
    "                new_pos.append([new_pos_x, new_pos_y])\n",
    "\n",
    "    # horizontalni\n",
    "    elif vehicles[vehicle][0][1] == vehicles[vehicle][1][1]:\n",
    "        # vpravo\n",
    "        if new_pos_x > vehicles[vehicle][0][0] and new_pos_x > vehicles[vehicle][1][0]:\n",
    "            if vehicles[vehicle][0][0] > vehicles[vehicle][1][0]:\n",
    "                new_pos.append(vehicles[vehicle][0])\n",
    "                new_pos.append([new_pos_x, new_pos_y])\n",
    "            else:\n",
    "                new_pos.append(vehicles[vehicle][1])\n",
    "                new_pos.append([new_pos_x, new_pos_y])\n",
    "        # vlevo    \n",
    "        else:\n",
    "            if vehicles[vehicle][0][0] < vehicles[vehicle][1][0]:\n",
    "                new_pos.append(vehicles[vehicle][0])\n",
    "                new_pos.append([new_pos_x, new_pos_y])\n",
    "            else:\n",
    "                new_pos.append(vehicles[vehicle][1])\n",
    "                new_pos.append([new_pos_x, new_pos_y])\n",
    "    return new_pos"
   ]
  },
  {
   "cell_type": "code",
   "execution_count": 10,
   "id": "04d0ff13",
   "metadata": {},
   "outputs": [],
   "source": [
    "def get_pos_truck(vehicles, vehicle, new_pos_x, new_pos_y):\n",
    "    new_pos = []\n",
    "    # posun vertikalni\n",
    "    if vehicles[vehicle][0][0] == vehicles[vehicle][1][0] and vehicles[vehicle][0][0] == vehicles[vehicle][2][0]:\n",
    "        # nahoru\n",
    "        if new_pos_y > vehicles[vehicle][0][1] and new_pos_y > vehicles[vehicle][1][1] and new_pos_y > vehicles[vehicle][2][1]:\n",
    "\n",
    "            if vehicles[vehicle][0][1] < vehicles[vehicle][1][1] and vehicles[vehicle][0][1] < vehicles[vehicle][2][1]:\n",
    "                new_pos.append(vehicles[vehicle][1])\n",
    "                new_pos.append(vehicles[vehicle][2])\n",
    "                new_pos.append([new_pos_x, new_pos_y])\n",
    "\n",
    "            elif vehicles[vehicle][1][1] < vehicles[vehicle][0][1] and vehicles[vehicle][1][1] < vehicles[vehicle][2][1]:\n",
    "                new_pos.append(vehicles[vehicle][0])\n",
    "                new_pos.append(vehicles[vehicle][2])\n",
    "                new_pos.append([new_pos_x, new_pos_y])\n",
    "\n",
    "            else:\n",
    "                new_pos.append(vehicles[vehicle][0])\n",
    "                new_pos.append(vehicles[vehicle][1])\n",
    "                new_pos.append([new_pos_x, new_pos_y])\n",
    "        # dolu    \n",
    "        else:\n",
    "            if vehicles[vehicle][0][1] > vehicles[vehicle][1][1] and vehicles[vehicle][0][1] > vehicles[vehicle][2][1]:\n",
    "                new_pos.append(vehicles[vehicle][1])\n",
    "                new_pos.append(vehicles[vehicle][2])\n",
    "                new_pos.append([new_pos_x, new_pos_y])\n",
    "\n",
    "            elif vehicles[vehicle][1][1] > vehicles[vehicle][0][1] and vehicles[vehicle][1][1] > vehicles[vehicle][2][1]:\n",
    "                new_pos.append(vehicles[vehicle][0])\n",
    "                new_pos.append(vehicles[vehicle][2])\n",
    "                new_pos.append([new_pos_x, new_pos_y])\n",
    "\n",
    "            else:\n",
    "                new_pos.append(vehicles[vehicle][0])\n",
    "                new_pos.append(vehicles[vehicle][1])\n",
    "                new_pos.append([new_pos_x, new_pos_y])\n",
    "\n",
    "    # horizontalni\n",
    "    elif vehicles[vehicle][0][1] == vehicles[vehicle][1][1] and vehicles[vehicle][2][0] == vehicles[vehicle][2][1]:\n",
    "        # vpravo\n",
    "        if new_pos_y > vehicles[vehicle][0][0] and new_pos_y > vehicles[vehicle][1][0] and new_pos_y > vehicles[vehicle][2][0]:\n",
    "\n",
    "            if vehicles[vehicle][0][0] < vehicles[vehicle][1][0] and vehicles[vehicle][0][0] < vehicles[vehicle][2][0]:\n",
    "                new_pos.append(vehicles[vehicle][1])\n",
    "                new_pos.append(vehicles[vehicle][2])\n",
    "                new_pos.append([new_pos_x, new_pos_y])\n",
    "\n",
    "            elif vehicles[vehicle][1][0] < vehicles[vehicle][0][0] and vehicles[vehicle][1][0] < vehicles[vehicle][2][0]:\n",
    "                new_pos.append(vehicles[vehicle][0])\n",
    "                new_pos.append(vehicles[vehicle][2])\n",
    "                new_pos.append([new_pos_x, new_pos_y])\n",
    "\n",
    "            else:\n",
    "                new_pos.append(vehicles[vehicle][0])\n",
    "                new_pos.append(vehicles[vehicle][1])\n",
    "                new_pos.append([new_pos_x, new_pos_y])\n",
    "        # vlevo    \n",
    "        else:\n",
    "            if vehicles[vehicle][0][0] > vehicles[vehicle][1][0] and vehicles[vehicle][0][0] > vehicles[vehicle][2][0]:\n",
    "                new_pos.append(vehicles[vehicle][1])\n",
    "                new_pos.append(vehicles[vehicle][2])\n",
    "                new_pos.append([new_pos_x, new_pos_y])\n",
    "\n",
    "            elif vehicles[vehicle][1][0] > vehicles[vehicle][0][0] and vehicles[vehicle][1][0] > vehicles[vehicle][2][0]:\n",
    "                new_pos.append(vehicles[vehicle][0])\n",
    "                new_pos.append(vehicles[vehicle][2])\n",
    "                new_pos.append([new_pos_x, new_pos_y])\n",
    "\n",
    "            else:\n",
    "                new_pos.append(vehicles[vehicle][0])\n",
    "                new_pos.append(vehicles[vehicle][1])\n",
    "                new_pos.append([new_pos_x, new_pos_y])\n",
    "    "
   ]
  },
  {
   "cell_type": "code",
   "execution_count": 11,
   "id": "72c38631",
   "metadata": {},
   "outputs": [],
   "source": [
    "def get_new_pos(vehicles, step):\n",
    "    vehicle = step[0]\n",
    "    new_pos_x = int(step[-1][-2])\n",
    "    new_pos_y = int(step[-1][-1])\n",
    "    new_pos = []\n",
    "    # car\n",
    "    if len(vehicles[vehicle]) == 2:\n",
    "        new_pos = get_pos_car(vehicles, vehicle, new_pos_x, new_pos_y)\n",
    "\n",
    "    # truck\n",
    "    elif len(vehicles[vehicle]) == 3:\n",
    "        new_pos = get_pos_truck(vehicles, vehicle, new_pos_x, new_pos_y)\n",
    "        \n",
    "    return new_pos"
   ]
  },
  {
   "cell_type": "code",
   "execution_count": 12,
   "id": "5c4ac6bd",
   "metadata": {},
   "outputs": [],
   "source": [
    "def make_anim(gifname):\n",
    "    vehicles = copy.deepcopy(start_vehicles)\n",
    "    filenames = []\n",
    "        \n",
    "    filename = f'0.png'\n",
    "    filenames.append(filename)\n",
    "    save_frame(vehicles, filename)\n",
    "    \n",
    "    i = 1\n",
    "    for step in steps:\n",
    "        vehicle = step[0]\n",
    "        vehicles[vehicle] = get_new_pos(vehicles, step)\n",
    "        \n",
    "        filename = f'{i}.png'\n",
    "        filenames.append(filename)\n",
    "        save_frame(vehicles, filename)\n",
    "        i+=1\n",
    "    \n",
    "    png_frames = []\n",
    "    for filename in filenames:\n",
    "        image = imageio.v2.imread(filename)\n",
    "        png_frames.append(image)\n",
    "        \n",
    "    imageio.mimsave(gifname, png_frames, 'GIF', fps=1)\n",
    "        \n",
    "    for filename in set(filenames):\n",
    "        os.remove(filename)"
   ]
  },
  {
   "cell_type": "code",
   "execution_count": 13,
   "id": "075a66b5",
   "metadata": {},
   "outputs": [],
   "source": [
    "make_anim('test.gif')"
   ]
  },
  {
   "cell_type": "markdown",
   "id": "517d9e13",
   "metadata": {},
   "source": [
    "![SegmentLocal](test.gif \"segment\")"
   ]
  },
  {
   "cell_type": "code",
   "execution_count": 14,
   "id": "71d2e73f",
   "metadata": {},
   "outputs": [],
   "source": [
    "def make_frames():\n",
    "    vehicles = copy.deepcopy(start_vehicles)\n",
    "    print_frame(vehicles)\n",
    "    #frames = []\n",
    "    #frames.append(vehicles)\n",
    "    \n",
    "    for step in steps:\n",
    "        vehicle = step[0]\n",
    "        vehicles[vehicle] = get_new_pos(vehicles, step)\n",
    "        \n",
    "        #print(vehicles[vehicle])\n",
    "        print_frame(vehicles)\n",
    "        #frames.append(print_frame(vehicles))\n",
    "    #return frames"
   ]
  },
  {
   "cell_type": "code",
   "execution_count": 15,
   "id": "1c384e37",
   "metadata": {
    "scrolled": true
   },
   "outputs": [
    {
     "data": {
      "image/png": "[encoded data removed]",
      "text/plain": [
       "<Figure size 500x500 with 1 Axes>"
      ]
     },
     "metadata": {},
     "output_type": "display_data"
    },
    {
     "data": {
      "image/png": "[encoded data removed]",
      "text/plain": [
       "<Figure size 500x500 with 1 Axes>"
      ]
     },
     "metadata": {},
     "output_type": "display_data"
    },
    {
     "data": {
      "image/png": "[encoded data removed]",
      "text/plain": [
       "<Figure size 500x500 with 1 Axes>"
      ]
     },
     "metadata": {},
     "output_type": "display_data"
    },
    {
     "data": {
      "image/png": "[encoded data removed]",
      "text/plain": [
       "<Figure size 500x500 with 1 Axes>"
      ]
     },
     "metadata": {},
     "output_type": "display_data"
    },
    {
     "data": {
      "image/png": "[encoded data removed]",
      "text/plain": [
       "<Figure size 500x500 with 1 Axes>"
      ]
     },
     "metadata": {},
     "output_type": "display_data"
    },
    {
     "data": {
      "image/png": "[encoded data removed]",
      "text/plain": [
       "<Figure size 500x500 with 1 Axes>"
      ]
     },
     "metadata": {},
     "output_type": "display_data"
    },
    {
     "data": {
      "image/png": "[encoded data removed]",
      "text/plain": [
       "<Figure size 500x500 with 1 Axes>"
      ]
     },
     "metadata": {},
     "output_type": "display_data"
    },
    {
     "data": {
      "image/png": "[encoded data removed]",
      "text/plain": [
       "<Figure size 500x500 with 1 Axes>"
      ]
     },
     "metadata": {},
     "output_type": "display_data"
    },
    {
     "data": {
      "image/png": "[encoded data removed]",
      "text/plain": [
       "<Figure size 500x500 with 1 Axes>"
      ]
     },
     "metadata": {},
     "output_type": "display_data"
    }
   ],
   "source": [
    "make_frames()"
   ]
  },
  {
   "cell_type": "code",
   "execution_count": null,
   "id": "fc52c8b8",
   "metadata": {
    "scrolled": false
   },
   "outputs": [],
   "source": []
  }
 ],
 "metadata": {
  "kernelspec": {
   "display_name": "Python 3 (ipykernel)",
   "language": "python",
   "name": "python3"
  },
  "language_info": {
   "codemirror_mode": {
    "name": "ipython",
    "version": 3
   },
   "file_extension": ".py",
   "mimetype": "text/x-python",
   "name": "python",
   "nbconvert_exporter": "python",
   "pygments_lexer": "ipython3",
   "version": "3.9.13"
  }
 },
 "nbformat": 4,
 "nbformat_minor": 5
}
